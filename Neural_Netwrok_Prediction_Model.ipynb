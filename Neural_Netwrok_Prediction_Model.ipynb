{
  "nbformat": 4,
  "nbformat_minor": 0,
  "metadata": {
    "colab": {
      "name": "Neural Netwrok - Prediction Model.ipynb",
      "provenance": [],
      "collapsed_sections": []
    },
    "kernelspec": {
      "name": "python3",
      "display_name": "Python 3"
    },
    "language_info": {
      "name": "python"
    }
  },
  "cells": [
    {
      "cell_type": "markdown",
      "metadata": {
        "id": "Ow1NDrAPNwSs"
      },
      "source": [
        "# *Inj Q Tor\" Prediction Model*"
      ]
    },
    {
      "cell_type": "markdown",
      "metadata": {
        "id": "y5d7LAtlUWyz"
      },
      "source": [
        "I opted for a 6 layer Artificial Neural Network for this model.<br>\n",
        "*Why a Neural Network?* <br>\n",
        "-Regression Prediction models arent that efficient as compared to these ANNs.<br>\n",
        "-Efficiency can be tweaked and can be increased with these type of Neural Networks as shown in this model.\n",
        "\n",
        "\n",
        "After tweaking with a few types of Neural Networks, I found out that a 6 layer, 21 Neurons Network output is the most efficient with about 96% - 97% efficiency.\n",
        "\n",
        "All Observations:<br>\n",
        "1st Observation: 3 layer, 9 Neurons model - 91% efficiency.<br>\n",
        "2nd Observation: 4 layer, 13 Neurons model - 93% efficiency.<br>\n",
        "3rd Observation: 5 layer, 17 Neurons model - 95% efficiency.<br>\n",
        "4th Observation: 6 layer, 21 Neurons Model - 96-97% efficiency. (Selected this model)<br>\n",
        "5th Observation: 7 layer, 25 Neurons Model - 93-95% efficiency with increased losses.<br>\n",
        "\n",
        "#################################################################################\n",
        "\n",
        "\n",
        "\n",
        "\n",
        "**Libraries Used: Pandas, Numpy, Seaborn, scikit-learn, Tensorflow 2, Keras**"
      ]
    },
    {
      "cell_type": "markdown",
      "metadata": {
        "id": "Do2LGHRdX7sm"
      },
      "source": [
        "**Importing Libraries**"
      ]
    },
    {
      "cell_type": "code",
      "metadata": {
        "id": "Yh_IbI1IrNzD"
      },
      "source": [
        "import pandas as pd\n",
        "import numpy as np\n",
        "import matplotlib.pyplot as plt\n",
        "import seaborn as sns"
      ],
      "execution_count": null,
      "outputs": []
    },
    {
      "cell_type": "markdown",
      "metadata": {
        "id": "muSPwWI3Yodc"
      },
      "source": [
        "**Reading Dataset**"
      ]
    },
    {
      "cell_type": "code",
      "metadata": {
        "id": "39-biJzdtzeO"
      },
      "source": [
        "df = pd.read_csv('T_000355_decimal.xlsx - Sheet1.csv')"
      ],
      "execution_count": null,
      "outputs": []
    },
    {
      "cell_type": "code",
      "metadata": {
        "colab": {
          "base_uri": "https://localhost:8080/",
          "height": 458
        },
        "id": "AqPBWmxduFeP",
        "outputId": "fad9ee03-f2f8-4ed5-a52a-8eb500134edc"
      },
      "source": [
        "df.head()"
      ],
      "execution_count": null,
      "outputs": [
        {
          "output_type": "execute_result",
          "data": {
            "text/html": [
              "<div>\n",
              "<style scoped>\n",
              "    .dataframe tbody tr th:only-of-type {\n",
              "        vertical-align: middle;\n",
              "    }\n",
              "\n",
              "    .dataframe tbody tr th {\n",
              "        vertical-align: top;\n",
              "    }\n",
              "\n",
              "    .dataframe thead th {\n",
              "        text-align: right;\n",
              "    }\n",
              "</style>\n",
              "<table border=\"1\" class=\"dataframe\">\n",
              "  <thead>\n",
              "    <tr style=\"text-align: right;\">\n",
              "      <th></th>\n",
              "      <th>Unnamed: 0</th>\n",
              "      <th>Time</th>\n",
              "      <th>Latitude</th>\n",
              "      <th>Longitude</th>\n",
              "      <th>Altitude</th>\n",
              "      <th>RPM</th>\n",
              "      <th>Driver Demand Torque (%)</th>\n",
              "      <th>Engine Load (%)</th>\n",
              "      <th>Engine Torque Mode</th>\n",
              "      <th>TPS (%)</th>\n",
              "      <th>Percent Load Curret Speed</th>\n",
              "      <th>Fuel Rate (L-Hr)</th>\n",
              "      <th>Vehicle Speed</th>\n",
              "      <th>Inj Q Cur (mg-st)</th>\n",
              "      <th>Inj Q Tor (mg-st)</th>\n",
              "      <th>Boost Pressure (mBar)</th>\n",
              "      <th>Atmospheric Pressure (mBar)</th>\n",
              "      <th>Coolant Temperature (*C)</th>\n",
              "      <th>Oil Temperature (*C)</th>\n",
              "      <th>Boost Temperature (*C)</th>\n",
              "      <th>Oil Pressure (mBar)</th>\n",
              "      <th>Battery Voltage (V)</th>\n",
              "      <th>Cam Speed (rpm)</th>\n",
              "      <th>Rail Pressure (mBar)</th>\n",
              "      <th>Rail Pressure set (mBar)</th>\n",
              "      <th>MU PWM (%)</th>\n",
              "      <th>MU Vol (mm3-s)</th>\n",
              "      <th>Torque Rat</th>\n",
              "      <th>Torque (Nm)</th>\n",
              "      <th>TQ Limit Set</th>\n",
              "      <th>Main Injection (mg-st)</th>\n",
              "      <th>Pilot Injection (mg-st)</th>\n",
              "      <th>Pos 2 Injector (mg-st)</th>\n",
              "      <th>EGR Prop (%)</th>\n",
              "      <th>EGR Pos D (%)</th>\n",
              "      <th>EGR Pos A (%)</th>\n",
              "      <th>Clutch Switch</th>\n",
              "      <th>Brake Switch</th>\n",
              "      <th>Engine Grad (rpm)</th>\n",
              "      <th>param1</th>\n",
              "      <th>param2</th>\n",
              "    </tr>\n",
              "  </thead>\n",
              "  <tbody>\n",
              "    <tr>\n",
              "      <th>0</th>\n",
              "      <td>0</td>\n",
              "      <td>2021-05-04 20:17:50</td>\n",
              "      <td>18.947098</td>\n",
              "      <td>73.941240</td>\n",
              "      <td>759.2</td>\n",
              "      <td>1033.0</td>\n",
              "      <td>57</td>\n",
              "      <td>57</td>\n",
              "      <td>-44</td>\n",
              "      <td>44.4</td>\n",
              "      <td>72</td>\n",
              "      <td>9.85</td>\n",
              "      <td>42.08</td>\n",
              "      <td>44.42</td>\n",
              "      <td>44.52</td>\n",
              "      <td>1177</td>\n",
              "      <td>924</td>\n",
              "      <td>87.3</td>\n",
              "      <td>90.1</td>\n",
              "      <td>40.4</td>\n",
              "      <td>3994</td>\n",
              "      <td>27.52</td>\n",
              "      <td>1032.0</td>\n",
              "      <td>905400</td>\n",
              "      <td>906200</td>\n",
              "      <td>17.53</td>\n",
              "      <td>13190</td>\n",
              "      <td>59.72</td>\n",
              "      <td>438.6</td>\n",
              "      <td>17.0</td>\n",
              "      <td>42.60</td>\n",
              "      <td>2</td>\n",
              "      <td>0</td>\n",
              "      <td>645.59</td>\n",
              "      <td>630.78</td>\n",
              "      <td>649.1</td>\n",
              "      <td>1</td>\n",
              "      <td>0</td>\n",
              "      <td>25.5</td>\n",
              "      <td>000000ff</td>\n",
              "      <td>07ffffff</td>\n",
              "    </tr>\n",
              "    <tr>\n",
              "      <th>1</th>\n",
              "      <td>1</td>\n",
              "      <td>2021-05-04 20:17:51</td>\n",
              "      <td>18.946997</td>\n",
              "      <td>73.941258</td>\n",
              "      <td>759.2</td>\n",
              "      <td>1037.0</td>\n",
              "      <td>57</td>\n",
              "      <td>57</td>\n",
              "      <td>-44</td>\n",
              "      <td>44.8</td>\n",
              "      <td>72</td>\n",
              "      <td>9.85</td>\n",
              "      <td>42.56</td>\n",
              "      <td>44.36</td>\n",
              "      <td>44.38</td>\n",
              "      <td>1181</td>\n",
              "      <td>924</td>\n",
              "      <td>87.3</td>\n",
              "      <td>90.1</td>\n",
              "      <td>40.3</td>\n",
              "      <td>4136</td>\n",
              "      <td>27.74</td>\n",
              "      <td>1035.5</td>\n",
              "      <td>909800</td>\n",
              "      <td>908700</td>\n",
              "      <td>17.48</td>\n",
              "      <td>13070</td>\n",
              "      <td>59.29</td>\n",
              "      <td>438.2</td>\n",
              "      <td>17.0</td>\n",
              "      <td>42.32</td>\n",
              "      <td>2</td>\n",
              "      <td>0</td>\n",
              "      <td>645.56</td>\n",
              "      <td>630.78</td>\n",
              "      <td>649.1</td>\n",
              "      <td>1</td>\n",
              "      <td>0</td>\n",
              "      <td>32586.5</td>\n",
              "      <td>000000ff</td>\n",
              "      <td>07ffffff</td>\n",
              "    </tr>\n",
              "    <tr>\n",
              "      <th>2</th>\n",
              "      <td>2</td>\n",
              "      <td>2021-05-04 20:17:52</td>\n",
              "      <td>18.946893</td>\n",
              "      <td>73.941277</td>\n",
              "      <td>759.2</td>\n",
              "      <td>1047.5</td>\n",
              "      <td>57</td>\n",
              "      <td>57</td>\n",
              "      <td>-92</td>\n",
              "      <td>44.0</td>\n",
              "      <td>71</td>\n",
              "      <td>9.85</td>\n",
              "      <td>42.71</td>\n",
              "      <td>43.82</td>\n",
              "      <td>44.12</td>\n",
              "      <td>1185</td>\n",
              "      <td>924</td>\n",
              "      <td>87.3</td>\n",
              "      <td>90.1</td>\n",
              "      <td>40.3</td>\n",
              "      <td>4035</td>\n",
              "      <td>27.72</td>\n",
              "      <td>1046.0</td>\n",
              "      <td>907600</td>\n",
              "      <td>908900</td>\n",
              "      <td>17.47</td>\n",
              "      <td>13130</td>\n",
              "      <td>58.37</td>\n",
              "      <td>435.8</td>\n",
              "      <td>17.0</td>\n",
              "      <td>41.92</td>\n",
              "      <td>2</td>\n",
              "      <td>0</td>\n",
              "      <td>645.58</td>\n",
              "      <td>630.78</td>\n",
              "      <td>649.1</td>\n",
              "      <td>1</td>\n",
              "      <td>0</td>\n",
              "      <td>32664.5</td>\n",
              "      <td>000000ff</td>\n",
              "      <td>07ffffff</td>\n",
              "    </tr>\n",
              "    <tr>\n",
              "      <th>3</th>\n",
              "      <td>3</td>\n",
              "      <td>2021-05-04 20:17:52</td>\n",
              "      <td>18.946893</td>\n",
              "      <td>73.941277</td>\n",
              "      <td>759.7</td>\n",
              "      <td>1041.5</td>\n",
              "      <td>51</td>\n",
              "      <td>51</td>\n",
              "      <td>-44</td>\n",
              "      <td>38.4</td>\n",
              "      <td>40</td>\n",
              "      <td>8.60</td>\n",
              "      <td>42.77</td>\n",
              "      <td>38.48</td>\n",
              "      <td>38.50</td>\n",
              "      <td>1188</td>\n",
              "      <td>924</td>\n",
              "      <td>87.3</td>\n",
              "      <td>90.1</td>\n",
              "      <td>40.3</td>\n",
              "      <td>4021</td>\n",
              "      <td>27.58</td>\n",
              "      <td>1044.5</td>\n",
              "      <td>905400</td>\n",
              "      <td>890400</td>\n",
              "      <td>18.04</td>\n",
              "      <td>11780</td>\n",
              "      <td>52.21</td>\n",
              "      <td>389.3</td>\n",
              "      <td>17.0</td>\n",
              "      <td>36.30</td>\n",
              "      <td>2</td>\n",
              "      <td>0</td>\n",
              "      <td>645.58</td>\n",
              "      <td>630.78</td>\n",
              "      <td>649.1</td>\n",
              "      <td>1</td>\n",
              "      <td>0</td>\n",
              "      <td>32586.0</td>\n",
              "      <td>000001ff</td>\n",
              "      <td>07ffffff</td>\n",
              "    </tr>\n",
              "    <tr>\n",
              "      <th>4</th>\n",
              "      <td>4</td>\n",
              "      <td>2021-05-04 20:17:54</td>\n",
              "      <td>18.946685</td>\n",
              "      <td>73.941312</td>\n",
              "      <td>759.7</td>\n",
              "      <td>1050.5</td>\n",
              "      <td>30</td>\n",
              "      <td>30</td>\n",
              "      <td>-108</td>\n",
              "      <td>29.2</td>\n",
              "      <td>48</td>\n",
              "      <td>4.75</td>\n",
              "      <td>42.34</td>\n",
              "      <td>21.28</td>\n",
              "      <td>22.00</td>\n",
              "      <td>1122</td>\n",
              "      <td>924</td>\n",
              "      <td>87.3</td>\n",
              "      <td>90.1</td>\n",
              "      <td>40.2</td>\n",
              "      <td>4169</td>\n",
              "      <td>27.58</td>\n",
              "      <td>1044.5</td>\n",
              "      <td>722800</td>\n",
              "      <td>735000</td>\n",
              "      <td>19.19</td>\n",
              "      <td>8710</td>\n",
              "      <td>34.60</td>\n",
              "      <td>238.2</td>\n",
              "      <td>17.0</td>\n",
              "      <td>20.20</td>\n",
              "      <td>2</td>\n",
              "      <td>0</td>\n",
              "      <td>645.57</td>\n",
              "      <td>630.78</td>\n",
              "      <td>649.1</td>\n",
              "      <td>1</td>\n",
              "      <td>0</td>\n",
              "      <td>32742.0</td>\n",
              "      <td>000000ff</td>\n",
              "      <td>07ffffff</td>\n",
              "    </tr>\n",
              "  </tbody>\n",
              "</table>\n",
              "</div>"
            ],
            "text/plain": [
              "   Unnamed: 0                 Time  ...    param1    param2\n",
              "0           0  2021-05-04 20:17:50  ...  000000ff  07ffffff\n",
              "1           1  2021-05-04 20:17:51  ...  000000ff  07ffffff\n",
              "2           2  2021-05-04 20:17:52  ...  000000ff  07ffffff\n",
              "3           3  2021-05-04 20:17:52  ...  000001ff  07ffffff\n",
              "4           4  2021-05-04 20:17:54  ...  000000ff  07ffffff\n",
              "\n",
              "[5 rows x 41 columns]"
            ]
          },
          "metadata": {
            "tags": []
          },
          "execution_count": 116
        }
      ]
    },
    {
      "cell_type": "markdown",
      "metadata": {
        "id": "PcyPFkNiudc5"
      },
      "source": [
        "**Splitting the data into train and test set**"
      ]
    },
    {
      "cell_type": "code",
      "metadata": {
        "id": "bIqR81WTuGfv"
      },
      "source": [
        "from sklearn.model_selection import train_test_split"
      ],
      "execution_count": null,
      "outputs": []
    },
    {
      "cell_type": "code",
      "metadata": {
        "id": "cnHLJQ1jugG7"
      },
      "source": [
        "X = df[['RPM','TPS (%)']].values "
      ],
      "execution_count": null,
      "outputs": []
    },
    {
      "cell_type": "code",
      "metadata": {
        "id": "gkVCzg_DurTy"
      },
      "source": [
        "y = df['Inj Q Tor (mg-st)'].values "
      ],
      "execution_count": null,
      "outputs": []
    },
    {
      "cell_type": "markdown",
      "metadata": {
        "id": "WJOhzhLHY9WX"
      },
      "source": [
        "Using a split ratio of 80:20 for train and test resp."
      ]
    },
    {
      "cell_type": "code",
      "metadata": {
        "id": "nbckw0jPusDx"
      },
      "source": [
        "X_train, X_test, y_train, y_test = train_test_split(X, y, test_size=0.2, random_state=42)"
      ],
      "execution_count": null,
      "outputs": []
    },
    {
      "cell_type": "code",
      "metadata": {
        "colab": {
          "base_uri": "https://localhost:8080/"
        },
        "id": "UpLGRnKru41V",
        "outputId": "976a43f2-2259-40e5-ca23-46225c8eee8b"
      },
      "source": [
        "X_train.shape "
      ],
      "execution_count": null,
      "outputs": [
        {
          "output_type": "execute_result",
          "data": {
            "text/plain": [
              "(454, 2)"
            ]
          },
          "metadata": {
            "tags": []
          },
          "execution_count": 121
        }
      ]
    },
    {
      "cell_type": "markdown",
      "metadata": {
        "id": "NnsKmPadZSjd"
      },
      "source": [
        "**Scaling data from min and max values**"
      ]
    },
    {
      "cell_type": "code",
      "metadata": {
        "id": "cWaO-ibOu7VX"
      },
      "source": [
        "from sklearn.preprocessing import MinMaxScaler "
      ],
      "execution_count": null,
      "outputs": []
    },
    {
      "cell_type": "code",
      "metadata": {
        "id": "lo-7lZmhu9cP"
      },
      "source": [
        "scaler = MinMaxScaler()"
      ],
      "execution_count": null,
      "outputs": []
    },
    {
      "cell_type": "code",
      "metadata": {
        "colab": {
          "base_uri": "https://localhost:8080/"
        },
        "id": "mA-T0lEYu_oe",
        "outputId": "3d2b5a60-4609-47dd-998c-f57c8437073d"
      },
      "source": [
        "scaler.fit(X_train) "
      ],
      "execution_count": null,
      "outputs": [
        {
          "output_type": "execute_result",
          "data": {
            "text/plain": [
              "MinMaxScaler(copy=True, feature_range=(0, 1))"
            ]
          },
          "metadata": {
            "tags": []
          },
          "execution_count": 124
        }
      ]
    },
    {
      "cell_type": "code",
      "metadata": {
        "id": "7JCvognqvBqP"
      },
      "source": [
        "X_train = scaler.transform(X_train)"
      ],
      "execution_count": null,
      "outputs": []
    },
    {
      "cell_type": "code",
      "metadata": {
        "id": "2VAJZ5pcvDSj"
      },
      "source": [
        "X_test = scaler.transform(X_test)"
      ],
      "execution_count": null,
      "outputs": []
    },
    {
      "cell_type": "markdown",
      "metadata": {
        "id": "lLg0WdxcZ0I-"
      },
      "source": [
        "**Deploying the Neural Network**"
      ]
    },
    {
      "cell_type": "code",
      "metadata": {
        "id": "EBsPiVYRvFWp"
      },
      "source": [
        "from tensorflow.keras.models import Sequential\n",
        "from tensorflow.keras.layers import Dense"
      ],
      "execution_count": null,
      "outputs": []
    },
    {
      "cell_type": "markdown",
      "metadata": {
        "id": "SCxgudhrZ-xf"
      },
      "source": [
        "As mentioned above, using 6 layers, 21 Neurons for best efficiency. Activation used: **Rectified Linear Unit**"
      ]
    },
    {
      "cell_type": "code",
      "metadata": {
        "id": "aLjZ2rm6vHA8"
      },
      "source": [
        "model = Sequential()\n",
        "\n",
        "model.add(Dense(4, activation='relu')) #layer 1\n",
        "model.add(Dense(4, activation='relu')) #layer 2\n",
        "model.add(Dense(4, activation='relu')) #layer 3\n",
        "model.add(Dense(4, activation='relu')) #layer 4\n",
        "model.add(Dense(4, activation='relu')) #layer 5\n",
        "\n",
        "model.add(Dense(1)) #layer 6\n",
        "\n",
        "model.compile(optimizer='rmsprop', loss='mse') "
      ],
      "execution_count": null,
      "outputs": []
    },
    {
      "cell_type": "markdown",
      "metadata": {
        "id": "JF4nIEhiabv1"
      },
      "source": [
        "Opted 250 train data read iterations for accuracy."
      ]
    },
    {
      "cell_type": "code",
      "metadata": {
        "colab": {
          "base_uri": "https://localhost:8080/"
        },
        "id": "Wn8Tz5rUvJxi",
        "outputId": "8d1af586-e355-48bb-ab0e-fb885b68f6ea"
      },
      "source": [
        "model.fit(x=X_train,y=y_train,epochs=250) "
      ],
      "execution_count": null,
      "outputs": [
        {
          "output_type": "stream",
          "text": [
            "Epoch 1/250\n",
            "15/15 [==============================] - 1s 2ms/step - loss: 967.4548\n",
            "Epoch 2/250\n",
            "15/15 [==============================] - 0s 2ms/step - loss: 964.1987\n",
            "Epoch 3/250\n",
            "15/15 [==============================] - 0s 2ms/step - loss: 963.1917\n",
            "Epoch 4/250\n",
            "15/15 [==============================] - 0s 2ms/step - loss: 962.2307\n",
            "Epoch 5/250\n",
            "15/15 [==============================] - 0s 2ms/step - loss: 961.1963\n",
            "Epoch 6/250\n",
            "15/15 [==============================] - 0s 2ms/step - loss: 960.1370\n",
            "Epoch 7/250\n",
            "15/15 [==============================] - 0s 2ms/step - loss: 959.0152\n",
            "Epoch 8/250\n",
            "15/15 [==============================] - 0s 1ms/step - loss: 957.8477\n",
            "Epoch 9/250\n",
            "15/15 [==============================] - 0s 2ms/step - loss: 956.6575\n",
            "Epoch 10/250\n",
            "15/15 [==============================] - 0s 2ms/step - loss: 955.3356\n",
            "Epoch 11/250\n",
            "15/15 [==============================] - 0s 1ms/step - loss: 953.9780\n",
            "Epoch 12/250\n",
            "15/15 [==============================] - 0s 1ms/step - loss: 952.5425\n",
            "Epoch 13/250\n",
            "15/15 [==============================] - 0s 2ms/step - loss: 950.9785\n",
            "Epoch 14/250\n",
            "15/15 [==============================] - 0s 2ms/step - loss: 949.2883\n",
            "Epoch 15/250\n",
            "15/15 [==============================] - 0s 2ms/step - loss: 947.4555\n",
            "Epoch 16/250\n",
            "15/15 [==============================] - 0s 2ms/step - loss: 945.5045\n",
            "Epoch 17/250\n",
            "15/15 [==============================] - 0s 2ms/step - loss: 943.4233\n",
            "Epoch 18/250\n",
            "15/15 [==============================] - 0s 2ms/step - loss: 941.0737\n",
            "Epoch 19/250\n",
            "15/15 [==============================] - 0s 2ms/step - loss: 938.2635\n",
            "Epoch 20/250\n",
            "15/15 [==============================] - 0s 2ms/step - loss: 935.1411\n",
            "Epoch 21/250\n",
            "15/15 [==============================] - 0s 3ms/step - loss: 931.4056\n",
            "Epoch 22/250\n",
            "15/15 [==============================] - 0s 2ms/step - loss: 927.0377\n",
            "Epoch 23/250\n",
            "15/15 [==============================] - 0s 2ms/step - loss: 921.8260\n",
            "Epoch 24/250\n",
            "15/15 [==============================] - 0s 2ms/step - loss: 915.6725\n",
            "Epoch 25/250\n",
            "15/15 [==============================] - 0s 2ms/step - loss: 908.7394\n",
            "Epoch 26/250\n",
            "15/15 [==============================] - 0s 2ms/step - loss: 900.5761\n",
            "Epoch 27/250\n",
            "15/15 [==============================] - 0s 2ms/step - loss: 891.2956\n",
            "Epoch 28/250\n",
            "15/15 [==============================] - 0s 2ms/step - loss: 880.5944\n",
            "Epoch 29/250\n",
            "15/15 [==============================] - 0s 2ms/step - loss: 868.8782\n",
            "Epoch 30/250\n",
            "15/15 [==============================] - 0s 1ms/step - loss: 856.1842\n",
            "Epoch 31/250\n",
            "15/15 [==============================] - 0s 2ms/step - loss: 841.6072\n",
            "Epoch 32/250\n",
            "15/15 [==============================] - 0s 2ms/step - loss: 825.4780\n",
            "Epoch 33/250\n",
            "15/15 [==============================] - 0s 2ms/step - loss: 808.0502\n",
            "Epoch 34/250\n",
            "15/15 [==============================] - 0s 2ms/step - loss: 788.2840\n",
            "Epoch 35/250\n",
            "15/15 [==============================] - 0s 1ms/step - loss: 767.1633\n",
            "Epoch 36/250\n",
            "15/15 [==============================] - 0s 2ms/step - loss: 743.7676\n",
            "Epoch 37/250\n",
            "15/15 [==============================] - 0s 2ms/step - loss: 718.3595\n",
            "Epoch 38/250\n",
            "15/15 [==============================] - 0s 2ms/step - loss: 690.9946\n",
            "Epoch 39/250\n",
            "15/15 [==============================] - 0s 2ms/step - loss: 661.4489\n",
            "Epoch 40/250\n",
            "15/15 [==============================] - 0s 2ms/step - loss: 629.8444\n",
            "Epoch 41/250\n",
            "15/15 [==============================] - 0s 2ms/step - loss: 595.9288\n",
            "Epoch 42/250\n",
            "15/15 [==============================] - 0s 2ms/step - loss: 561.0150\n",
            "Epoch 43/250\n",
            "15/15 [==============================] - 0s 2ms/step - loss: 524.3277\n",
            "Epoch 44/250\n",
            "15/15 [==============================] - 0s 2ms/step - loss: 486.5627\n",
            "Epoch 45/250\n",
            "15/15 [==============================] - 0s 2ms/step - loss: 448.7560\n",
            "Epoch 46/250\n",
            "15/15 [==============================] - 0s 2ms/step - loss: 411.6465\n",
            "Epoch 47/250\n",
            "15/15 [==============================] - 0s 2ms/step - loss: 374.3769\n",
            "Epoch 48/250\n",
            "15/15 [==============================] - 0s 2ms/step - loss: 339.3623\n",
            "Epoch 49/250\n",
            "15/15 [==============================] - 0s 2ms/step - loss: 306.7089\n",
            "Epoch 50/250\n",
            "15/15 [==============================] - 0s 2ms/step - loss: 277.2191\n",
            "Epoch 51/250\n",
            "15/15 [==============================] - 0s 2ms/step - loss: 254.7562\n",
            "Epoch 52/250\n",
            "15/15 [==============================] - 0s 2ms/step - loss: 236.2354\n",
            "Epoch 53/250\n",
            "15/15 [==============================] - 0s 2ms/step - loss: 224.0286\n",
            "Epoch 54/250\n",
            "15/15 [==============================] - 0s 2ms/step - loss: 217.4207\n",
            "Epoch 55/250\n",
            "15/15 [==============================] - 0s 2ms/step - loss: 214.0806\n",
            "Epoch 56/250\n",
            "15/15 [==============================] - 0s 2ms/step - loss: 211.4528\n",
            "Epoch 57/250\n",
            "15/15 [==============================] - 0s 2ms/step - loss: 209.7508\n",
            "Epoch 58/250\n",
            "15/15 [==============================] - 0s 2ms/step - loss: 207.7164\n",
            "Epoch 59/250\n",
            "15/15 [==============================] - 0s 2ms/step - loss: 205.3924\n",
            "Epoch 60/250\n",
            "15/15 [==============================] - 0s 2ms/step - loss: 203.9398\n",
            "Epoch 61/250\n",
            "15/15 [==============================] - 0s 2ms/step - loss: 201.5308\n",
            "Epoch 62/250\n",
            "15/15 [==============================] - 0s 2ms/step - loss: 199.4379\n",
            "Epoch 63/250\n",
            "15/15 [==============================] - 0s 2ms/step - loss: 197.2505\n",
            "Epoch 64/250\n",
            "15/15 [==============================] - 0s 1ms/step - loss: 194.8864\n",
            "Epoch 65/250\n",
            "15/15 [==============================] - 0s 2ms/step - loss: 192.9064\n",
            "Epoch 66/250\n",
            "15/15 [==============================] - 0s 2ms/step - loss: 190.5274\n",
            "Epoch 67/250\n",
            "15/15 [==============================] - 0s 2ms/step - loss: 188.3210\n",
            "Epoch 68/250\n",
            "15/15 [==============================] - 0s 3ms/step - loss: 185.8166\n",
            "Epoch 69/250\n",
            "15/15 [==============================] - 0s 2ms/step - loss: 183.8498\n",
            "Epoch 70/250\n",
            "15/15 [==============================] - 0s 2ms/step - loss: 181.3104\n",
            "Epoch 71/250\n",
            "15/15 [==============================] - 0s 2ms/step - loss: 179.3491\n",
            "Epoch 72/250\n",
            "15/15 [==============================] - 0s 2ms/step - loss: 177.0827\n",
            "Epoch 73/250\n",
            "15/15 [==============================] - 0s 2ms/step - loss: 174.9321\n",
            "Epoch 74/250\n",
            "15/15 [==============================] - 0s 2ms/step - loss: 172.6425\n",
            "Epoch 75/250\n",
            "15/15 [==============================] - 0s 2ms/step - loss: 170.5897\n",
            "Epoch 76/250\n",
            "15/15 [==============================] - 0s 2ms/step - loss: 168.3296\n",
            "Epoch 77/250\n",
            "15/15 [==============================] - 0s 2ms/step - loss: 165.7127\n",
            "Epoch 78/250\n",
            "15/15 [==============================] - 0s 2ms/step - loss: 163.5388\n",
            "Epoch 79/250\n",
            "15/15 [==============================] - 0s 2ms/step - loss: 161.0879\n",
            "Epoch 80/250\n",
            "15/15 [==============================] - 0s 2ms/step - loss: 158.8321\n",
            "Epoch 81/250\n",
            "15/15 [==============================] - 0s 2ms/step - loss: 156.4654\n",
            "Epoch 82/250\n",
            "15/15 [==============================] - 0s 2ms/step - loss: 153.8954\n",
            "Epoch 83/250\n",
            "15/15 [==============================] - 0s 2ms/step - loss: 151.5798\n",
            "Epoch 84/250\n",
            "15/15 [==============================] - 0s 2ms/step - loss: 149.0166\n",
            "Epoch 85/250\n",
            "15/15 [==============================] - 0s 2ms/step - loss: 146.6669\n",
            "Epoch 86/250\n",
            "15/15 [==============================] - 0s 2ms/step - loss: 143.9174\n",
            "Epoch 87/250\n",
            "15/15 [==============================] - 0s 2ms/step - loss: 141.4052\n",
            "Epoch 88/250\n",
            "15/15 [==============================] - 0s 2ms/step - loss: 138.5395\n",
            "Epoch 89/250\n",
            "15/15 [==============================] - 0s 2ms/step - loss: 135.8852\n",
            "Epoch 90/250\n",
            "15/15 [==============================] - 0s 2ms/step - loss: 133.0928\n",
            "Epoch 91/250\n",
            "15/15 [==============================] - 0s 2ms/step - loss: 130.1248\n",
            "Epoch 92/250\n",
            "15/15 [==============================] - 0s 2ms/step - loss: 127.3471\n",
            "Epoch 93/250\n",
            "15/15 [==============================] - 0s 2ms/step - loss: 124.8945\n",
            "Epoch 94/250\n",
            "15/15 [==============================] - 0s 2ms/step - loss: 122.0769\n",
            "Epoch 95/250\n",
            "15/15 [==============================] - 0s 2ms/step - loss: 119.4198\n",
            "Epoch 96/250\n",
            "15/15 [==============================] - 0s 2ms/step - loss: 116.7904\n",
            "Epoch 97/250\n",
            "15/15 [==============================] - 0s 2ms/step - loss: 113.7059\n",
            "Epoch 98/250\n",
            "15/15 [==============================] - 0s 2ms/step - loss: 110.6001\n",
            "Epoch 99/250\n",
            "15/15 [==============================] - 0s 2ms/step - loss: 108.1926\n",
            "Epoch 100/250\n",
            "15/15 [==============================] - 0s 2ms/step - loss: 105.2025\n",
            "Epoch 101/250\n",
            "15/15 [==============================] - 0s 2ms/step - loss: 101.9582\n",
            "Epoch 102/250\n",
            "15/15 [==============================] - 0s 2ms/step - loss: 98.7962\n",
            "Epoch 103/250\n",
            "15/15 [==============================] - 0s 2ms/step - loss: 95.8327\n",
            "Epoch 104/250\n",
            "15/15 [==============================] - 0s 2ms/step - loss: 92.8385\n",
            "Epoch 105/250\n",
            "15/15 [==============================] - 0s 1ms/step - loss: 89.5728\n",
            "Epoch 106/250\n",
            "15/15 [==============================] - 0s 2ms/step - loss: 86.9217\n",
            "Epoch 107/250\n",
            "15/15 [==============================] - 0s 2ms/step - loss: 84.3943\n",
            "Epoch 108/250\n",
            "15/15 [==============================] - 0s 2ms/step - loss: 81.8614\n",
            "Epoch 109/250\n",
            "15/15 [==============================] - 0s 2ms/step - loss: 79.2732\n",
            "Epoch 110/250\n",
            "15/15 [==============================] - 0s 2ms/step - loss: 76.9309\n",
            "Epoch 111/250\n",
            "15/15 [==============================] - 0s 2ms/step - loss: 74.0482\n",
            "Epoch 112/250\n",
            "15/15 [==============================] - 0s 2ms/step - loss: 71.2856\n",
            "Epoch 113/250\n",
            "15/15 [==============================] - 0s 2ms/step - loss: 68.3951\n",
            "Epoch 114/250\n",
            "15/15 [==============================] - 0s 2ms/step - loss: 66.0520\n",
            "Epoch 115/250\n",
            "15/15 [==============================] - 0s 2ms/step - loss: 63.5228\n",
            "Epoch 116/250\n",
            "15/15 [==============================] - 0s 2ms/step - loss: 61.6055\n",
            "Epoch 117/250\n",
            "15/15 [==============================] - 0s 2ms/step - loss: 59.2199\n",
            "Epoch 118/250\n",
            "15/15 [==============================] - 0s 2ms/step - loss: 56.9553\n",
            "Epoch 119/250\n",
            "15/15 [==============================] - 0s 2ms/step - loss: 55.2336\n",
            "Epoch 120/250\n",
            "15/15 [==============================] - 0s 2ms/step - loss: 53.5883\n",
            "Epoch 121/250\n",
            "15/15 [==============================] - 0s 2ms/step - loss: 52.1318\n",
            "Epoch 122/250\n",
            "15/15 [==============================] - 0s 2ms/step - loss: 50.8596\n",
            "Epoch 123/250\n",
            "15/15 [==============================] - 0s 2ms/step - loss: 49.7574\n",
            "Epoch 124/250\n",
            "15/15 [==============================] - 0s 2ms/step - loss: 48.7260\n",
            "Epoch 125/250\n",
            "15/15 [==============================] - 0s 1ms/step - loss: 47.8745\n",
            "Epoch 126/250\n",
            "15/15 [==============================] - 0s 2ms/step - loss: 46.6611\n",
            "Epoch 127/250\n",
            "15/15 [==============================] - 0s 2ms/step - loss: 45.9654\n",
            "Epoch 128/250\n",
            "15/15 [==============================] - 0s 2ms/step - loss: 45.1807\n",
            "Epoch 129/250\n",
            "15/15 [==============================] - 0s 2ms/step - loss: 44.5356\n",
            "Epoch 130/250\n",
            "15/15 [==============================] - 0s 2ms/step - loss: 43.8387\n",
            "Epoch 131/250\n",
            "15/15 [==============================] - 0s 2ms/step - loss: 43.2227\n",
            "Epoch 132/250\n",
            "15/15 [==============================] - 0s 2ms/step - loss: 42.3493\n",
            "Epoch 133/250\n",
            "15/15 [==============================] - 0s 2ms/step - loss: 42.0568\n",
            "Epoch 134/250\n",
            "15/15 [==============================] - 0s 2ms/step - loss: 41.4534\n",
            "Epoch 135/250\n",
            "15/15 [==============================] - 0s 2ms/step - loss: 40.7306\n",
            "Epoch 136/250\n",
            "15/15 [==============================] - 0s 2ms/step - loss: 39.8776\n",
            "Epoch 137/250\n",
            "15/15 [==============================] - 0s 2ms/step - loss: 39.2927\n",
            "Epoch 138/250\n",
            "15/15 [==============================] - 0s 2ms/step - loss: 38.8071\n",
            "Epoch 139/250\n",
            "15/15 [==============================] - 0s 2ms/step - loss: 38.0920\n",
            "Epoch 140/250\n",
            "15/15 [==============================] - 0s 2ms/step - loss: 37.7968\n",
            "Epoch 141/250\n",
            "15/15 [==============================] - 0s 2ms/step - loss: 37.2511\n",
            "Epoch 142/250\n",
            "15/15 [==============================] - 0s 2ms/step - loss: 36.7490\n",
            "Epoch 143/250\n",
            "15/15 [==============================] - 0s 2ms/step - loss: 36.3145\n",
            "Epoch 144/250\n",
            "15/15 [==============================] - 0s 2ms/step - loss: 35.8059\n",
            "Epoch 145/250\n",
            "15/15 [==============================] - 0s 2ms/step - loss: 35.4242\n",
            "Epoch 146/250\n",
            "15/15 [==============================] - 0s 2ms/step - loss: 34.9670\n",
            "Epoch 147/250\n",
            "15/15 [==============================] - 0s 2ms/step - loss: 34.5580\n",
            "Epoch 148/250\n",
            "15/15 [==============================] - 0s 2ms/step - loss: 34.4029\n",
            "Epoch 149/250\n",
            "15/15 [==============================] - 0s 2ms/step - loss: 33.8386\n",
            "Epoch 150/250\n",
            "15/15 [==============================] - 0s 2ms/step - loss: 33.5542\n",
            "Epoch 151/250\n",
            "15/15 [==============================] - 0s 2ms/step - loss: 32.9713\n",
            "Epoch 152/250\n",
            "15/15 [==============================] - 0s 2ms/step - loss: 32.6552\n",
            "Epoch 153/250\n",
            "15/15 [==============================] - 0s 2ms/step - loss: 32.3686\n",
            "Epoch 154/250\n",
            "15/15 [==============================] - 0s 2ms/step - loss: 31.6867\n",
            "Epoch 155/250\n",
            "15/15 [==============================] - 0s 2ms/step - loss: 31.2707\n",
            "Epoch 156/250\n",
            "15/15 [==============================] - 0s 2ms/step - loss: 30.8543\n",
            "Epoch 157/250\n",
            "15/15 [==============================] - 0s 2ms/step - loss: 30.6390\n",
            "Epoch 158/250\n",
            "15/15 [==============================] - 0s 2ms/step - loss: 30.1256\n",
            "Epoch 159/250\n",
            "15/15 [==============================] - 0s 1ms/step - loss: 29.9398\n",
            "Epoch 160/250\n",
            "15/15 [==============================] - 0s 2ms/step - loss: 29.4736\n",
            "Epoch 161/250\n",
            "15/15 [==============================] - 0s 2ms/step - loss: 29.0423\n",
            "Epoch 162/250\n",
            "15/15 [==============================] - 0s 2ms/step - loss: 28.7583\n",
            "Epoch 163/250\n",
            "15/15 [==============================] - 0s 2ms/step - loss: 28.4220\n",
            "Epoch 164/250\n",
            "15/15 [==============================] - 0s 2ms/step - loss: 27.9212\n",
            "Epoch 165/250\n",
            "15/15 [==============================] - 0s 2ms/step - loss: 27.6047\n",
            "Epoch 166/250\n",
            "15/15 [==============================] - 0s 2ms/step - loss: 27.1810\n",
            "Epoch 167/250\n",
            "15/15 [==============================] - 0s 2ms/step - loss: 26.9605\n",
            "Epoch 168/250\n",
            "15/15 [==============================] - 0s 2ms/step - loss: 26.5341\n",
            "Epoch 169/250\n",
            "15/15 [==============================] - 0s 2ms/step - loss: 26.0359\n",
            "Epoch 170/250\n",
            "15/15 [==============================] - 0s 2ms/step - loss: 25.7268\n",
            "Epoch 171/250\n",
            "15/15 [==============================] - 0s 2ms/step - loss: 25.1785\n",
            "Epoch 172/250\n",
            "15/15 [==============================] - 0s 2ms/step - loss: 24.6788\n",
            "Epoch 173/250\n",
            "15/15 [==============================] - 0s 2ms/step - loss: 23.5625\n",
            "Epoch 174/250\n",
            "15/15 [==============================] - 0s 2ms/step - loss: 22.7288\n",
            "Epoch 175/250\n",
            "15/15 [==============================] - 0s 2ms/step - loss: 21.9202\n",
            "Epoch 176/250\n",
            "15/15 [==============================] - 0s 2ms/step - loss: 21.2173\n",
            "Epoch 177/250\n",
            "15/15 [==============================] - 0s 2ms/step - loss: 20.6221\n",
            "Epoch 178/250\n",
            "15/15 [==============================] - 0s 2ms/step - loss: 20.0425\n",
            "Epoch 179/250\n",
            "15/15 [==============================] - 0s 2ms/step - loss: 19.4086\n",
            "Epoch 180/250\n",
            "15/15 [==============================] - 0s 2ms/step - loss: 18.8029\n",
            "Epoch 181/250\n",
            "15/15 [==============================] - 0s 2ms/step - loss: 18.0953\n",
            "Epoch 182/250\n",
            "15/15 [==============================] - 0s 2ms/step - loss: 17.6390\n",
            "Epoch 183/250\n",
            "15/15 [==============================] - 0s 2ms/step - loss: 16.9886\n",
            "Epoch 184/250\n",
            "15/15 [==============================] - 0s 2ms/step - loss: 16.3824\n",
            "Epoch 185/250\n",
            "15/15 [==============================] - 0s 2ms/step - loss: 15.8451\n",
            "Epoch 186/250\n",
            "15/15 [==============================] - 0s 2ms/step - loss: 15.3329\n",
            "Epoch 187/250\n",
            "15/15 [==============================] - 0s 3ms/step - loss: 14.9237\n",
            "Epoch 188/250\n",
            "15/15 [==============================] - 0s 2ms/step - loss: 14.5556\n",
            "Epoch 189/250\n",
            "15/15 [==============================] - 0s 2ms/step - loss: 14.3000\n",
            "Epoch 190/250\n",
            "15/15 [==============================] - 0s 2ms/step - loss: 14.0109\n",
            "Epoch 191/250\n",
            "15/15 [==============================] - 0s 1ms/step - loss: 13.7432\n",
            "Epoch 192/250\n",
            "15/15 [==============================] - 0s 2ms/step - loss: 13.3932\n",
            "Epoch 193/250\n",
            "15/15 [==============================] - 0s 2ms/step - loss: 13.3663\n",
            "Epoch 194/250\n",
            "15/15 [==============================] - 0s 2ms/step - loss: 13.1367\n",
            "Epoch 195/250\n",
            "15/15 [==============================] - 0s 2ms/step - loss: 12.9773\n",
            "Epoch 196/250\n",
            "15/15 [==============================] - 0s 2ms/step - loss: 12.9417\n",
            "Epoch 197/250\n",
            "15/15 [==============================] - 0s 2ms/step - loss: 12.7545\n",
            "Epoch 198/250\n",
            "15/15 [==============================] - 0s 2ms/step - loss: 12.6275\n",
            "Epoch 199/250\n",
            "15/15 [==============================] - 0s 2ms/step - loss: 12.5340\n",
            "Epoch 200/250\n",
            "15/15 [==============================] - 0s 2ms/step - loss: 12.5143\n",
            "Epoch 201/250\n",
            "15/15 [==============================] - 0s 2ms/step - loss: 12.4587\n",
            "Epoch 202/250\n",
            "15/15 [==============================] - 0s 2ms/step - loss: 12.3279\n",
            "Epoch 203/250\n",
            "15/15 [==============================] - 0s 2ms/step - loss: 12.2506\n",
            "Epoch 204/250\n",
            "15/15 [==============================] - 0s 2ms/step - loss: 12.2763\n",
            "Epoch 205/250\n",
            "15/15 [==============================] - 0s 2ms/step - loss: 12.2626\n",
            "Epoch 206/250\n",
            "15/15 [==============================] - 0s 2ms/step - loss: 12.1732\n",
            "Epoch 207/250\n",
            "15/15 [==============================] - 0s 2ms/step - loss: 12.0758\n",
            "Epoch 208/250\n",
            "15/15 [==============================] - 0s 2ms/step - loss: 12.1306\n",
            "Epoch 209/250\n",
            "15/15 [==============================] - 0s 2ms/step - loss: 12.0696\n",
            "Epoch 210/250\n",
            "15/15 [==============================] - 0s 2ms/step - loss: 11.9303\n",
            "Epoch 211/250\n",
            "15/15 [==============================] - 0s 2ms/step - loss: 12.0608\n",
            "Epoch 212/250\n",
            "15/15 [==============================] - 0s 2ms/step - loss: 11.9684\n",
            "Epoch 213/250\n",
            "15/15 [==============================] - 0s 2ms/step - loss: 11.9196\n",
            "Epoch 214/250\n",
            "15/15 [==============================] - 0s 2ms/step - loss: 11.9037\n",
            "Epoch 215/250\n",
            "15/15 [==============================] - 0s 2ms/step - loss: 11.9146\n",
            "Epoch 216/250\n",
            "15/15 [==============================] - 0s 2ms/step - loss: 11.7918\n",
            "Epoch 217/250\n",
            "15/15 [==============================] - 0s 2ms/step - loss: 11.9052\n",
            "Epoch 218/250\n",
            "15/15 [==============================] - 0s 2ms/step - loss: 11.7831\n",
            "Epoch 219/250\n",
            "15/15 [==============================] - 0s 2ms/step - loss: 11.7429\n",
            "Epoch 220/250\n",
            "15/15 [==============================] - 0s 2ms/step - loss: 11.8742\n",
            "Epoch 221/250\n",
            "15/15 [==============================] - 0s 2ms/step - loss: 11.7090\n",
            "Epoch 222/250\n",
            "15/15 [==============================] - 0s 2ms/step - loss: 11.7555\n",
            "Epoch 223/250\n",
            "15/15 [==============================] - 0s 2ms/step - loss: 11.6779\n",
            "Epoch 224/250\n",
            "15/15 [==============================] - 0s 3ms/step - loss: 11.7607\n",
            "Epoch 225/250\n",
            "15/15 [==============================] - 0s 2ms/step - loss: 11.7257\n",
            "Epoch 226/250\n",
            "15/15 [==============================] - 0s 2ms/step - loss: 11.6412\n",
            "Epoch 227/250\n",
            "15/15 [==============================] - 0s 2ms/step - loss: 11.7279\n",
            "Epoch 228/250\n",
            "15/15 [==============================] - 0s 2ms/step - loss: 11.6679\n",
            "Epoch 229/250\n",
            "15/15 [==============================] - 0s 2ms/step - loss: 11.6548\n",
            "Epoch 230/250\n",
            "15/15 [==============================] - 0s 2ms/step - loss: 11.6860\n",
            "Epoch 231/250\n",
            "15/15 [==============================] - 0s 2ms/step - loss: 11.6368\n",
            "Epoch 232/250\n",
            "15/15 [==============================] - 0s 2ms/step - loss: 11.6739\n",
            "Epoch 233/250\n",
            "15/15 [==============================] - 0s 2ms/step - loss: 11.5429\n",
            "Epoch 234/250\n",
            "15/15 [==============================] - 0s 2ms/step - loss: 11.7017\n",
            "Epoch 235/250\n",
            "15/15 [==============================] - 0s 2ms/step - loss: 11.5838\n",
            "Epoch 236/250\n",
            "15/15 [==============================] - 0s 2ms/step - loss: 11.5902\n",
            "Epoch 237/250\n",
            "15/15 [==============================] - 0s 2ms/step - loss: 11.5474\n",
            "Epoch 238/250\n",
            "15/15 [==============================] - 0s 2ms/step - loss: 11.7072\n",
            "Epoch 239/250\n",
            "15/15 [==============================] - 0s 2ms/step - loss: 11.5987\n",
            "Epoch 240/250\n",
            "15/15 [==============================] - 0s 2ms/step - loss: 11.5962\n",
            "Epoch 241/250\n",
            "15/15 [==============================] - 0s 1ms/step - loss: 11.5606\n",
            "Epoch 242/250\n",
            "15/15 [==============================] - 0s 2ms/step - loss: 11.5482\n",
            "Epoch 243/250\n",
            "15/15 [==============================] - 0s 3ms/step - loss: 11.5264\n",
            "Epoch 244/250\n",
            "15/15 [==============================] - 0s 2ms/step - loss: 11.5522\n",
            "Epoch 245/250\n",
            "15/15 [==============================] - 0s 2ms/step - loss: 11.5540\n",
            "Epoch 246/250\n",
            "15/15 [==============================] - 0s 2ms/step - loss: 11.5091\n",
            "Epoch 247/250\n",
            "15/15 [==============================] - 0s 2ms/step - loss: 11.5999\n",
            "Epoch 248/250\n",
            "15/15 [==============================] - 0s 2ms/step - loss: 11.5592\n",
            "Epoch 249/250\n",
            "15/15 [==============================] - 0s 2ms/step - loss: 11.4617\n",
            "Epoch 250/250\n",
            "15/15 [==============================] - 0s 2ms/step - loss: 11.5738\n"
          ],
          "name": "stdout"
        },
        {
          "output_type": "execute_result",
          "data": {
            "text/plain": [
              "<tensorflow.python.keras.callbacks.History at 0x7f234eb88590>"
            ]
          },
          "metadata": {
            "tags": []
          },
          "execution_count": 129
        }
      ]
    },
    {
      "cell_type": "markdown",
      "metadata": {
        "id": "7at_6CLTal0Q"
      },
      "source": [
        "**Losses Overview**"
      ]
    },
    {
      "cell_type": "code",
      "metadata": {
        "id": "yUExNhSSvLz6"
      },
      "source": [
        "loss_df = pd.DataFrame(model.history.history) "
      ],
      "execution_count": null,
      "outputs": []
    },
    {
      "cell_type": "code",
      "metadata": {
        "colab": {
          "base_uri": "https://localhost:8080/",
          "height": 283
        },
        "id": "k9PgHrgvvaNS",
        "outputId": "28200343-8d62-4155-bd66-5f5e2e2857db"
      },
      "source": [
        "loss_df.plot() "
      ],
      "execution_count": null,
      "outputs": [
        {
          "output_type": "execute_result",
          "data": {
            "text/plain": [
              "<matplotlib.axes._subplots.AxesSubplot at 0x7f2350d9c250>"
            ]
          },
          "metadata": {
            "tags": []
          },
          "execution_count": 131
        },
        {
          "output_type": "display_data",
          "data": {
            "image/png": "[encoded data removed]",
            "text/plain": [
              "<Figure size 432x288 with 1 Axes>"
            ]
          },
          "metadata": {
            "tags": [],
            "needs_background": "light"
          }
        }
      ]
    },
    {
      "cell_type": "markdown",
      "metadata": {
        "id": "RHBKvOvoa9dU"
      },
      "source": [
        "It can be obseved from the plot that the losses go from very high value to a very low value which is perfect."
      ]
    },
    {
      "cell_type": "markdown",
      "metadata": {
        "id": "CgRkRT-KbNtM"
      },
      "source": [
        "The following are the Metric losses for Test set and Train set resp.:"
      ]
    },
    {
      "cell_type": "code",
      "metadata": {
        "colab": {
          "base_uri": "https://localhost:8080/"
        },
        "id": "j3Zve997vbwc",
        "outputId": "a711f8bf-a7b8-4240-e77c-e020982d60e6"
      },
      "source": [
        "model.evaluate(X_test, y_test,verbose=0) "
      ],
      "execution_count": null,
      "outputs": [
        {
          "output_type": "execute_result",
          "data": {
            "text/plain": [
              "13.615407943725586"
            ]
          },
          "metadata": {
            "tags": []
          },
          "execution_count": 132
        }
      ]
    },
    {
      "cell_type": "code",
      "metadata": {
        "colab": {
          "base_uri": "https://localhost:8080/"
        },
        "id": "T1h-xzK_vdjM",
        "outputId": "a9d4fd8f-75fb-410b-cab5-71ed5a27f3f3"
      },
      "source": [
        "model.evaluate(X_train, y_train,verbose=0) "
      ],
      "execution_count": null,
      "outputs": [
        {
          "output_type": "execute_result",
          "data": {
            "text/plain": [
              "11.405230522155762"
            ]
          },
          "metadata": {
            "tags": []
          },
          "execution_count": 133
        }
      ]
    },
    {
      "cell_type": "markdown",
      "metadata": {
        "id": "QYnIk3CxvhXK"
      },
      "source": [
        "Test Predictions\n",
        "\n",
        "---\n",
        "\n"
      ]
    },
    {
      "cell_type": "code",
      "metadata": {
        "id": "2WUDqNkWvfEe"
      },
      "source": [
        "test_predictions = model.predict(X_test) "
      ],
      "execution_count": null,
      "outputs": []
    },
    {
      "cell_type": "code",
      "metadata": {
        "id": "gfMfZEkBvlhZ"
      },
      "source": [
        "test_predictions = pd.Series(test_predictions.reshape(114,))"
      ],
      "execution_count": null,
      "outputs": []
    },
    {
      "cell_type": "code",
      "metadata": {
        "id": "fr7kf41bvnFU"
      },
      "source": [
        "pred_df = pd.DataFrame(y_test,columns=['Test True Y'])"
      ],
      "execution_count": null,
      "outputs": []
    },
    {
      "cell_type": "markdown",
      "metadata": {
        "id": "UcfQ2uJjbrji"
      },
      "source": [
        "Test Set Prediction Values:"
      ]
    },
    {
      "cell_type": "code",
      "metadata": {
        "colab": {
          "base_uri": "https://localhost:8080/",
          "height": 417
        },
        "id": "DV34hRS5w2DP",
        "outputId": "07b57a90-2560-4e05-e625-fbbcf8bd2c76"
      },
      "source": [
        "pred_df"
      ],
      "execution_count": null,
      "outputs": [
        {
          "output_type": "execute_result",
          "data": {
            "text/html": [
              "<div>\n",
              "<style scoped>\n",
              "    .dataframe tbody tr th:only-of-type {\n",
              "        vertical-align: middle;\n",
              "    }\n",
              "\n",
              "    .dataframe tbody tr th {\n",
              "        vertical-align: top;\n",
              "    }\n",
              "\n",
              "    .dataframe thead th {\n",
              "        text-align: right;\n",
              "    }\n",
              "</style>\n",
              "<table border=\"1\" class=\"dataframe\">\n",
              "  <thead>\n",
              "    <tr style=\"text-align: right;\">\n",
              "      <th></th>\n",
              "      <th>Test True Y</th>\n",
              "    </tr>\n",
              "  </thead>\n",
              "  <tbody>\n",
              "    <tr>\n",
              "      <th>0</th>\n",
              "      <td>7.90</td>\n",
              "    </tr>\n",
              "    <tr>\n",
              "      <th>1</th>\n",
              "      <td>32.40</td>\n",
              "    </tr>\n",
              "    <tr>\n",
              "      <th>2</th>\n",
              "      <td>51.50</td>\n",
              "    </tr>\n",
              "    <tr>\n",
              "      <th>3</th>\n",
              "      <td>7.80</td>\n",
              "    </tr>\n",
              "    <tr>\n",
              "      <th>4</th>\n",
              "      <td>0.00</td>\n",
              "    </tr>\n",
              "    <tr>\n",
              "      <th>...</th>\n",
              "      <td>...</td>\n",
              "    </tr>\n",
              "    <tr>\n",
              "      <th>109</th>\n",
              "      <td>32.80</td>\n",
              "    </tr>\n",
              "    <tr>\n",
              "      <th>110</th>\n",
              "      <td>26.62</td>\n",
              "    </tr>\n",
              "    <tr>\n",
              "      <th>111</th>\n",
              "      <td>43.30</td>\n",
              "    </tr>\n",
              "    <tr>\n",
              "      <th>112</th>\n",
              "      <td>0.00</td>\n",
              "    </tr>\n",
              "    <tr>\n",
              "      <th>113</th>\n",
              "      <td>19.66</td>\n",
              "    </tr>\n",
              "  </tbody>\n",
              "</table>\n",
              "<p>114 rows × 1 columns</p>\n",
              "</div>"
            ],
            "text/plain": [
              "     Test True Y\n",
              "0           7.90\n",
              "1          32.40\n",
              "2          51.50\n",
              "3           7.80\n",
              "4           0.00\n",
              "..           ...\n",
              "109        32.80\n",
              "110        26.62\n",
              "111        43.30\n",
              "112         0.00\n",
              "113        19.66\n",
              "\n",
              "[114 rows x 1 columns]"
            ]
          },
          "metadata": {
            "tags": []
          },
          "execution_count": 137
        }
      ]
    },
    {
      "cell_type": "markdown",
      "metadata": {
        "id": "KbsPERLJbx5V"
      },
      "source": [
        "**Comapring Real values and Predicted Values.**"
      ]
    },
    {
      "cell_type": "code",
      "metadata": {
        "id": "3t6melCPw28M"
      },
      "source": [
        "pred_df = pd.concat([pred_df,test_predictions],axis=1)"
      ],
      "execution_count": null,
      "outputs": []
    },
    {
      "cell_type": "code",
      "metadata": {
        "id": "4QERkCskw8eG"
      },
      "source": [
        "pred_df.columns = ['Test True Y', 'Model Predictions']"
      ],
      "execution_count": null,
      "outputs": []
    },
    {
      "cell_type": "code",
      "metadata": {
        "colab": {
          "base_uri": "https://localhost:8080/",
          "height": 417
        },
        "id": "WvbFwIIJw-Ct",
        "outputId": "6c08072c-19b0-4613-a2e2-350ee5bb287c"
      },
      "source": [
        "pred_df"
      ],
      "execution_count": null,
      "outputs": [
        {
          "output_type": "execute_result",
          "data": {
            "text/html": [
              "<div>\n",
              "<style scoped>\n",
              "    .dataframe tbody tr th:only-of-type {\n",
              "        vertical-align: middle;\n",
              "    }\n",
              "\n",
              "    .dataframe tbody tr th {\n",
              "        vertical-align: top;\n",
              "    }\n",
              "\n",
              "    .dataframe thead th {\n",
              "        text-align: right;\n",
              "    }\n",
              "</style>\n",
              "<table border=\"1\" class=\"dataframe\">\n",
              "  <thead>\n",
              "    <tr style=\"text-align: right;\">\n",
              "      <th></th>\n",
              "      <th>Test True Y</th>\n",
              "      <th>Model Predictions</th>\n",
              "    </tr>\n",
              "  </thead>\n",
              "  <tbody>\n",
              "    <tr>\n",
              "      <th>0</th>\n",
              "      <td>7.90</td>\n",
              "      <td>6.057597</td>\n",
              "    </tr>\n",
              "    <tr>\n",
              "      <th>1</th>\n",
              "      <td>32.40</td>\n",
              "      <td>29.709862</td>\n",
              "    </tr>\n",
              "    <tr>\n",
              "      <th>2</th>\n",
              "      <td>51.50</td>\n",
              "      <td>54.515018</td>\n",
              "    </tr>\n",
              "    <tr>\n",
              "      <th>3</th>\n",
              "      <td>7.80</td>\n",
              "      <td>6.060305</td>\n",
              "    </tr>\n",
              "    <tr>\n",
              "      <th>4</th>\n",
              "      <td>0.00</td>\n",
              "      <td>4.435547</td>\n",
              "    </tr>\n",
              "    <tr>\n",
              "      <th>...</th>\n",
              "      <td>...</td>\n",
              "      <td>...</td>\n",
              "    </tr>\n",
              "    <tr>\n",
              "      <th>109</th>\n",
              "      <td>32.80</td>\n",
              "      <td>28.670647</td>\n",
              "    </tr>\n",
              "    <tr>\n",
              "      <th>110</th>\n",
              "      <td>26.62</td>\n",
              "      <td>37.269035</td>\n",
              "    </tr>\n",
              "    <tr>\n",
              "      <th>111</th>\n",
              "      <td>43.30</td>\n",
              "      <td>38.869114</td>\n",
              "    </tr>\n",
              "    <tr>\n",
              "      <th>112</th>\n",
              "      <td>0.00</td>\n",
              "      <td>4.435547</td>\n",
              "    </tr>\n",
              "    <tr>\n",
              "      <th>113</th>\n",
              "      <td>19.66</td>\n",
              "      <td>20.653757</td>\n",
              "    </tr>\n",
              "  </tbody>\n",
              "</table>\n",
              "<p>114 rows × 2 columns</p>\n",
              "</div>"
            ],
            "text/plain": [
              "     Test True Y  Model Predictions\n",
              "0           7.90           6.057597\n",
              "1          32.40          29.709862\n",
              "2          51.50          54.515018\n",
              "3           7.80           6.060305\n",
              "4           0.00           4.435547\n",
              "..           ...                ...\n",
              "109        32.80          28.670647\n",
              "110        26.62          37.269035\n",
              "111        43.30          38.869114\n",
              "112         0.00           4.435547\n",
              "113        19.66          20.653757\n",
              "\n",
              "[114 rows x 2 columns]"
            ]
          },
          "metadata": {
            "tags": []
          },
          "execution_count": 140
        }
      ]
    },
    {
      "cell_type": "markdown",
      "metadata": {
        "id": "ZDKLp5hycBLH"
      },
      "source": [
        "Plotting the results for better understanding."
      ]
    },
    {
      "cell_type": "code",
      "metadata": {
        "colab": {
          "base_uri": "https://localhost:8080/",
          "height": 296
        },
        "id": "ajffkS1Gw_-m",
        "outputId": "486d4543-a225-4df8-9554-800be47c8e03"
      },
      "source": [
        "sns.scatterplot(x='Test True Y',y='Model Predictions',data=pred_df) \n",
        "plt.plot(y_test,y_test,'r')"
      ],
      "execution_count": null,
      "outputs": [
        {
          "output_type": "execute_result",
          "data": {
            "text/plain": [
              "[<matplotlib.lines.Line2D at 0x7f234a60abd0>]"
            ]
          },
          "metadata": {
            "tags": []
          },
          "execution_count": 141
        },
        {
          "output_type": "display_data",
          "data": {
            "image/png": "[encoded data removed]",
            "text/plain": [
              "<Figure size 432x288 with 1 Axes>"
            ]
          },
          "metadata": {
            "tags": [],
            "needs_background": "light"
          }
        }
      ]
    },
    {
      "cell_type": "markdown",
      "metadata": {
        "id": "0Tyyhbfxchv5"
      },
      "source": [
        "Ignoring the outliers, a very good prediction by the model can be observed from the plot.\n",
        "\n",
        "The red line indicates the best prediction possible.\n",
        "The scattered blue dots represent predictions by this model."
      ]
    },
    {
      "cell_type": "markdown",
      "metadata": {
        "id": "Jo04yS6lcwlS"
      },
      "source": [
        "**Calculating Efficiency of the model.**"
      ]
    },
    {
      "cell_type": "markdown",
      "metadata": {
        "id": "6IZEefs2c35A"
      },
      "source": [
        "Calculating Mean Absolute error and Mean Squared Error."
      ]
    },
    {
      "cell_type": "code",
      "metadata": {
        "id": "l_hEvQzPxGSw"
      },
      "source": [
        "from sklearn.metrics import mean_absolute_error,mean_squared_error"
      ],
      "execution_count": null,
      "outputs": []
    },
    {
      "cell_type": "code",
      "metadata": {
        "colab": {
          "base_uri": "https://localhost:8080/"
        },
        "id": "5bOi5Ep3xdaw",
        "outputId": "03721e33-f05e-4f66-aa50-6b55ed5cb9d5"
      },
      "source": [
        "mean_absolute_error(pred_df['Test True Y'],pred_df['Model Predictions']) "
      ],
      "execution_count": null,
      "outputs": [
        {
          "output_type": "execute_result",
          "data": {
            "text/plain": [
              "2.938792278557493"
            ]
          },
          "metadata": {
            "tags": []
          },
          "execution_count": 143
        }
      ]
    },
    {
      "cell_type": "markdown",
      "metadata": {
        "id": "vx7ASRnFdAsi"
      },
      "source": [
        "This means the model is approximately 4.10 off from the real value which is very low."
      ]
    },
    {
      "cell_type": "code",
      "metadata": {
        "colab": {
          "base_uri": "https://localhost:8080/"
        },
        "id": "7PYMOxk0xgnr",
        "outputId": "e547707e-519c-4847-c2d4-d1c98861e7a6"
      },
      "source": [
        "mean_squared_error(pred_df['Test True Y'],pred_df['Model Predictions'])**0.5"
      ],
      "execution_count": null,
      "outputs": [
        {
          "output_type": "execute_result",
          "data": {
            "text/plain": [
              "3.6899062075120623"
            ]
          },
          "metadata": {
            "tags": []
          },
          "execution_count": 144
        }
      ]
    },
    {
      "cell_type": "code",
      "metadata": {
        "colab": {
          "base_uri": "https://localhost:8080/",
          "height": 295
        },
        "id": "3KVr7c1BleK5",
        "outputId": "e635e200-beb1-4730-929a-2b17edb40c3d"
      },
      "source": [
        "df[['RPM','TPS (%)','Inj Q Tor (mg-st)']].describe()"
      ],
      "execution_count": null,
      "outputs": [
        {
          "output_type": "execute_result",
          "data": {
            "text/html": [
              "<div>\n",
              "<style scoped>\n",
              "    .dataframe tbody tr th:only-of-type {\n",
              "        vertical-align: middle;\n",
              "    }\n",
              "\n",
              "    .dataframe tbody tr th {\n",
              "        vertical-align: top;\n",
              "    }\n",
              "\n",
              "    .dataframe thead th {\n",
              "        text-align: right;\n",
              "    }\n",
              "</style>\n",
              "<table border=\"1\" class=\"dataframe\">\n",
              "  <thead>\n",
              "    <tr style=\"text-align: right;\">\n",
              "      <th></th>\n",
              "      <th>RPM</th>\n",
              "      <th>TPS (%)</th>\n",
              "      <th>Inj Q Tor (mg-st)</th>\n",
              "    </tr>\n",
              "  </thead>\n",
              "  <tbody>\n",
              "    <tr>\n",
              "      <th>count</th>\n",
              "      <td>568.000000</td>\n",
              "      <td>568.000000</td>\n",
              "      <td>568.000000</td>\n",
              "    </tr>\n",
              "    <tr>\n",
              "      <th>mean</th>\n",
              "      <td>846.755282</td>\n",
              "      <td>23.540845</td>\n",
              "      <td>24.777500</td>\n",
              "    </tr>\n",
              "    <tr>\n",
              "      <th>std</th>\n",
              "      <td>276.018403</td>\n",
              "      <td>19.057152</td>\n",
              "      <td>18.327832</td>\n",
              "    </tr>\n",
              "    <tr>\n",
              "      <th>min</th>\n",
              "      <td>0.000000</td>\n",
              "      <td>0.000000</td>\n",
              "      <td>0.000000</td>\n",
              "    </tr>\n",
              "    <tr>\n",
              "      <th>25%</th>\n",
              "      <td>600.500000</td>\n",
              "      <td>0.000000</td>\n",
              "      <td>7.880000</td>\n",
              "    </tr>\n",
              "    <tr>\n",
              "      <th>50%</th>\n",
              "      <td>975.500000</td>\n",
              "      <td>26.800000</td>\n",
              "      <td>23.970000</td>\n",
              "    </tr>\n",
              "    <tr>\n",
              "      <th>75%</th>\n",
              "      <td>1019.625000</td>\n",
              "      <td>36.800000</td>\n",
              "      <td>37.830000</td>\n",
              "    </tr>\n",
              "    <tr>\n",
              "      <th>max</th>\n",
              "      <td>1168.000000</td>\n",
              "      <td>64.400000</td>\n",
              "      <td>72.620000</td>\n",
              "    </tr>\n",
              "  </tbody>\n",
              "</table>\n",
              "</div>"
            ],
            "text/plain": [
              "               RPM     TPS (%)  Inj Q Tor (mg-st)\n",
              "count   568.000000  568.000000         568.000000\n",
              "mean    846.755282   23.540845          24.777500\n",
              "std     276.018403   19.057152          18.327832\n",
              "min       0.000000    0.000000           0.000000\n",
              "25%     600.500000    0.000000           7.880000\n",
              "50%     975.500000   26.800000          23.970000\n",
              "75%    1019.625000   36.800000          37.830000\n",
              "max    1168.000000   64.400000          72.620000"
            ]
          },
          "metadata": {
            "tags": []
          },
          "execution_count": 145
        }
      ]
    },
    {
      "cell_type": "code",
      "metadata": {
        "colab": {
          "base_uri": "https://localhost:8080/"
        },
        "id": "oLBgyg-1M8BX",
        "outputId": "fd462388-68da-4808-a9fe-a199f4f0a31b"
      },
      "source": [
        "efficiency = ((72.62-2.93)/72.62)*100\n",
        "print('Model efficiency:',efficiency)"
      ],
      "execution_count": null,
      "outputs": [
        {
          "output_type": "stream",
          "text": [
            "Model efficiency: 95.96529881575323\n"
          ],
          "name": "stdout"
        }
      ]
    },
    {
      "cell_type": "markdown",
      "metadata": {
        "id": "BV9FRJ2WdaN5"
      },
      "source": [
        "#########################"
      ]
    },
    {
      "cell_type": "markdown",
      "metadata": {
        "id": "iGQTFSvWdbmn"
      },
      "source": [
        "**Predicting single Inj Q Tor. values from given RPM & TPS(%)**"
      ]
    },
    {
      "cell_type": "code",
      "metadata": {
        "id": "OvbM8o_vxt72"
      },
      "source": [
        "rpm = 1300\n",
        "TPS = 48\n",
        "\n",
        "New_Input = [[rpm,TPS]]"
      ],
      "execution_count": null,
      "outputs": []
    },
    {
      "cell_type": "code",
      "metadata": {
        "id": "T7ESjsavyz7o"
      },
      "source": [
        "New_Input = scaler.transform(New_Input)"
      ],
      "execution_count": null,
      "outputs": []
    },
    {
      "cell_type": "code",
      "metadata": {
        "colab": {
          "base_uri": "https://localhost:8080/"
        },
        "id": "w8g5P--_y3ad",
        "outputId": "99cf6791-d128-4a27-98c2-6a825f8cfd97"
      },
      "source": [
        "model.predict(New_Input) "
      ],
      "execution_count": null,
      "outputs": [
        {
          "output_type": "execute_result",
          "data": {
            "text/plain": [
              "array([[37.794994]], dtype=float32)"
            ]
          },
          "metadata": {
            "tags": []
          },
          "execution_count": 153
        }
      ]
    },
    {
      "cell_type": "markdown",
      "metadata": {
        "id": "1EwmJQ3meQ7W"
      },
      "source": [
        "**This means for a RMS of 1000 and TPS(%) of 38, the Inj Q Tor. is 37.794**"
      ]
    },
    {
      "cell_type": "markdown",
      "metadata": {
        "id": "pRjDEXwfehXU"
      },
      "source": [
        "###################################"
      ]
    }
  ]
}